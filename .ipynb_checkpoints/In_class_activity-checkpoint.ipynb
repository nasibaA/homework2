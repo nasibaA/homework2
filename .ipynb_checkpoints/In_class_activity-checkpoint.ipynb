{
 "cells": [
  {
   "cell_type": "code",
   "execution_count": null,
   "id": "7e8c6de6",
   "metadata": {},
   "outputs": [],
   "source": [
    " def weird (a):\n",
    "        if a%2==1:\n",
    "            print(\"weird\")\n",
    "        elif 2<=a<=5:\n",
    "            print(\"Not weird\")\n",
    "        elif 6<=a<=20:\n",
    "            print(\"weird\")\n",
    "        else:\n",
    "             print(\"not weird\") \n",
    "                        \n",
    "weird(18)"
   ]
  }
 ],
 "metadata": {
  "kernelspec": {
   "display_name": "Python 3 (ipykernel)",
   "language": "python",
   "name": "python3"
  },
  "language_info": {
   "codemirror_mode": {
    "name": "ipython",
    "version": 3
   },
   "file_extension": ".py",
   "mimetype": "text/x-python",
   "name": "python",
   "nbconvert_exporter": "python",
   "pygments_lexer": "ipython3",
   "version": "3.8.5"
  }
 },
 "nbformat": 4,
 "nbformat_minor": 5
}
